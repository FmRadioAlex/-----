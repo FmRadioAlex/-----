{
  "nbformat": 4,
  "nbformat_minor": 0,
  "metadata": {
    "colab": {
      "provenance": [],
      "authorship_tag": "ABX9TyMV82BsZ4pw1oEpNLb5OIyL",
      "include_colab_link": true
    },
    "kernelspec": {
      "name": "python3",
      "display_name": "Python 3"
    },
    "language_info": {
      "name": "python"
    }
  },
  "cells": [
    {
      "cell_type": "markdown",
      "metadata": {
        "id": "view-in-github",
        "colab_type": "text"
      },
      "source": [
        "<a href=\"https://colab.research.google.com/github/FmRadioAlex/-----/blob/main/goit_data_hw_4_1.ipynb\" target=\"_parent\"><img src=\"https://colab.research.google.com/assets/colab-badge.svg\" alt=\"Open In Colab\"/></a>"
      ]
    },
    {
      "cell_type": "code",
      "execution_count": null,
      "metadata": {
        "id": "e5Lst4glQnEs"
      },
      "outputs": [],
      "source": [
        "import numpy as np\n",
        "import random"
      ]
    },
    {
      "cell_type": "markdown",
      "source": [
        "1-Створіть одновимірний масив (вектор) з першими 10-ма натуральними числами та виведіть його значення."
      ],
      "metadata": {
        "id": "P5ztDfhfhGeg"
      }
    },
    {
      "cell_type": "code",
      "source": [
        "np.array([1,2,3,4,5,6,7,8,9,10])"
      ],
      "metadata": {
        "id": "SI__AjgHhA-B"
      },
      "execution_count": null,
      "outputs": []
    },
    {
      "cell_type": "markdown",
      "source": [
        "2-Створіть двовимірний масив (матрицю) розміром 3x3, заповніть його нулями та виведіть його значення."
      ],
      "metadata": {
        "id": "_OZP1g6Rh2b2"
      }
    },
    {
      "cell_type": "code",
      "source": [
        "np.zeros([3,3])"
      ],
      "metadata": {
        "id": "8c91AkXKh65i"
      },
      "execution_count": null,
      "outputs": []
    },
    {
      "cell_type": "markdown",
      "source": [
        "3-Створіть масив розміром 5x5, заповніть його випадковими цілими числами в діапазоні від 1 до 10 та виведіть його значення."
      ],
      "metadata": {
        "id": "YKMwyC3SilN6"
      }
    },
    {
      "cell_type": "code",
      "source": [
        "np.random.randint(1,10,size=(5,5))"
      ],
      "metadata": {
        "id": "Po_EZm0Lim_2"
      },
      "execution_count": null,
      "outputs": []
    },
    {
      "cell_type": "markdown",
      "source": [
        "4-Створіть масив розміром 4x4, заповніть його випадковими дійсними числами в діапазоні від 0 до 1 та виведіть його значення"
      ],
      "metadata": {
        "id": "Kff9jbGfa_Tw"
      }
    },
    {
      "cell_type": "code",
      "source": [
        "np.random.rand(4,4)"
      ],
      "metadata": {
        "id": "1uL6qIBDa343"
      },
      "execution_count": null,
      "outputs": []
    },
    {
      "cell_type": "markdown",
      "source": [
        "5-Створіть два одновимірних масиви розміром 5, заповніть їх випадковими цілими числами в діапазоні від 1 до 10 та виконайте на них поелементні операції додавання, віднімання та множення."
      ],
      "metadata": {
        "id": "bZFT_pNObUPT"
      }
    },
    {
      "cell_type": "code",
      "source": [
        "A=np.random.randint(0,11,size=(5))\n",
        "B=np.random.randint(0,11,size=(5))\n",
        "print(A,B)\n",
        "print(A+B)\n",
        "print(A-B)\n",
        "print(A*B)"
      ],
      "metadata": {
        "id": "Evua_6CXbVfU"
      },
      "execution_count": null,
      "outputs": []
    },
    {
      "cell_type": "markdown",
      "source": [
        "6-Створіть два вектори розміром 7, заповніть довільними числами та знайдіть їх скалярний добуток."
      ],
      "metadata": {
        "id": "F-YQ3rtEdoVF"
      }
    },
    {
      "cell_type": "code",
      "source": [
        "A=np.random.randint(0,10,size=(7))\n",
        "B=np.random.randint(0,10,size=(7))\n",
        "print(f'Матриця А {A}\\nМатриця В {B}')\n",
        "print(f'Добуток {np.dot(A,B)}')"
      ],
      "metadata": {
        "id": "5ZwsUN-ydqwI"
      },
      "execution_count": null,
      "outputs": []
    },
    {
      "cell_type": "markdown",
      "source": [
        "7-Створіть дві матриці розміром 2x2 та 2x3, заповніть їх випадковими цілими числами в діапазоні від 1 до 10 та перемножте їх між собою"
      ],
      "metadata": {
        "id": "gn0COvSqfDHc"
      }
    },
    {
      "cell_type": "code",
      "source": [
        "A=np.random.randint(0,10,size=(2,2))\n",
        "B=np.random.randint(0,10,size=(2,3))\n",
        "print(f'Матриця А\\n{A}\\nМатриця В\\n{B}')\n",
        "np.dot(A,B)"
      ],
      "metadata": {
        "id": "fXD30yUCfHRU"
      },
      "execution_count": null,
      "outputs": []
    },
    {
      "cell_type": "markdown",
      "source": [
        "8-Створіть матрицю розміром 3x3, заповніть її випадковими цілими числами в діапазоні від 1 до 10 та знайдіть її обернену матрицю."
      ],
      "metadata": {
        "id": "NB3fP1suf5wz"
      }
    },
    {
      "cell_type": "code",
      "source": [
        "B=np.random.randint(0,10,size=(3,3))\n",
        "print(B)\n",
        "print(np.linalg.inv(B))"
      ],
      "metadata": {
        "colab": {
          "base_uri": "https://localhost:8080/"
        },
        "id": "UA7R8-iQf7cB",
        "outputId": "1410ca66-8e09-41a7-e79a-92d469e35db1"
      },
      "execution_count": null,
      "outputs": [
        {
          "output_type": "stream",
          "name": "stdout",
          "text": [
            "[[8 2 0]\n",
            " [1 1 0]\n",
            " [0 3 9]]\n",
            "[[ 0.16666667 -0.33333333  0.        ]\n",
            " [-0.16666667  1.33333333  0.        ]\n",
            " [ 0.05555556 -0.44444444  0.11111111]]\n"
          ]
        }
      ]
    },
    {
      "cell_type": "markdown",
      "source": [
        "9-Створіть матрицю розміром 4x4, заповніть її випадковими дійсними числами в діапазоні від 0 до 1 та транспонуйте її."
      ],
      "metadata": {
        "id": "T8jUvQfriMk5"
      }
    },
    {
      "cell_type": "code",
      "source": [
        "A=np.random.randint(0,2,size=(4,4))\n",
        "print(A,'\\n\\n')\n",
        "print(A.T)"
      ],
      "metadata": {
        "id": "_dsYKIhOiN6A"
      },
      "execution_count": null,
      "outputs": []
    },
    {
      "cell_type": "markdown",
      "source": [
        "10-Створіть матрицю розміром 3x4 та вектор розміром 4, заповніть їх випадковими цілими числами в діапазоні від 1 до 10 та перемножте матрицю на вектор."
      ],
      "metadata": {
        "id": "MRE-ofccij8-"
      }
    },
    {
      "cell_type": "code",
      "source": [
        "A=np.random.randint(0,10,size=(3,4))\n",
        "B=np.random.randint(0,10,size=4)\n",
        "print(A,'\\n\\n',B,end=\"\\n\\n\")\n",
        "print(A*B,\"\\n\\n\")\n",
        "print(np.dot(A,B))"
      ],
      "metadata": {
        "id": "vL_1kwJfiuTa"
      },
      "execution_count": null,
      "outputs": []
    },
    {
      "cell_type": "markdown",
      "source": [
        "11-Створіть матрицю розміром 2x3 та вектор розміром 3, заповніть їх випадковими дійсними числами в діапазоні від 0 до 1 та перемножте матрицю на вектор."
      ],
      "metadata": {
        "id": "5mnWbS0ajtXU"
      }
    },
    {
      "cell_type": "code",
      "source": [
        "A=np.random.rand(2,3)\n",
        "B=np.random.rand(3)\n",
        "print(A,'\\n\\n',B,end=\"\\n\\n\")\n",
        "print(A*B,\"\\n\\n\")\n",
        "print(np.dot(A,B))"
      ],
      "metadata": {
        "id": "GCz6915Fjvoe"
      },
      "execution_count": null,
      "outputs": []
    },
    {
      "cell_type": "markdown",
      "source": [
        "12-Створіть дві матриці розміром 2x2, заповніть їх випадковими цілими числами в діапазоні від 1 до 10 та виконайте їхнє поелементне множення."
      ],
      "metadata": {
        "id": "ajEVrlw5ksXB"
      }
    },
    {
      "cell_type": "code",
      "source": [
        "A=np.random.randint(0,10,size=(2,2))\n",
        "B=np.random.randint(0,10,size=(2,2))\n",
        "print(A,end='\\n\\n')\n",
        "print(B,end='\\n\\n')\n",
        "A*B"
      ],
      "metadata": {
        "id": "cKYR5_hmktZe"
      },
      "execution_count": null,
      "outputs": []
    },
    {
      "cell_type": "markdown",
      "source": [
        "13-Створіть дві матриці розміром 2x2, заповніть їх випадковими цілими числами в діапазоні від 1 до 10 та знайдіть їх добуток"
      ],
      "metadata": {
        "id": "_TS7K2V3lLcP"
      }
    },
    {
      "cell_type": "code",
      "source": [
        "A=np.random.randint(0,10,size=(2,2))\n",
        "B=np.random.randint(0,10,size=(2,2))\n",
        "np.dot(A,B)"
      ],
      "metadata": {
        "id": "ygabFHk9lPoB"
      },
      "execution_count": null,
      "outputs": []
    },
    {
      "cell_type": "markdown",
      "source": [
        "14-Створіть матрицю розміром 5x5, заповніть її випадковими цілими числами в діапазоні від 1 до 100 та знайдіть суму елементів матриці."
      ],
      "metadata": {
        "id": "YzJFliy-ld1h"
      }
    },
    {
      "cell_type": "code",
      "source": [
        "A=np.random.randint(0,100,size=(5,5))\n",
        "print(A)\n",
        "print(f'Summa = {np.sum(A)}')"
      ],
      "metadata": {
        "id": "C78cBA0tlirF"
      },
      "execution_count": null,
      "outputs": []
    },
    {
      "cell_type": "markdown",
      "source": [],
      "metadata": {
        "id": "M9avbOU5ksVw"
      }
    },
    {
      "cell_type": "markdown",
      "source": [
        "15-Створіть дві матриці розміром 4x4, заповніть їх випадковими цілими числами в діапазоні від 1 до 10 та знайдіть їхню різницю."
      ],
      "metadata": {
        "id": "L9vbFRFJmURq"
      }
    },
    {
      "cell_type": "code",
      "source": [
        "A=np.random.randint(0,10,size=(4,4))\n",
        "B=np.random.randint(0,10,size=(4,4))\n",
        "A-B"
      ],
      "metadata": {
        "id": "OMJU9EXWmVgE"
      },
      "execution_count": null,
      "outputs": []
    },
    {
      "cell_type": "markdown",
      "source": [
        "16-Створіть матрицю розміром 3x3, заповніть її випадковими дійсними числами в діапазоні від 0 до 1 та знайдіть вектор-стовпчик, що містить суму елементів кожного рядка матриці."
      ],
      "metadata": {
        "id": "LLvjve1imq1u"
      }
    },
    {
      "cell_type": "code",
      "source": [
        "A=np.random.rand(3,3)\n",
        "print(A)\n",
        "np.sum(A,axis=1)"
      ],
      "metadata": {
        "id": "UXrPleM5mtwe"
      },
      "execution_count": null,
      "outputs": []
    },
    {
      "cell_type": "markdown",
      "source": [
        "17-Створіть матрицю розміром 3x4 з довільними цілими числами і створінь матрицю з квадратами цих чисел."
      ],
      "metadata": {
        "id": "0XLUBrG4qhdX"
      }
    },
    {
      "cell_type": "code",
      "source": [
        "A=np.random.randint(0,10,size=(3,4))\n",
        "print(A)\n",
        "A**2"
      ],
      "metadata": {
        "id": "fObxJYqzmtvc"
      },
      "execution_count": null,
      "outputs": []
    },
    {
      "cell_type": "markdown",
      "source": [
        "18-Створіть вектор розміром 4, заповніть його випадковими цілими числами в діапазоні від 1 до 50 та знайдіть вектор з квадратними коренями цих чисел."
      ],
      "metadata": {
        "id": "L3JRzyZErDWV"
      }
    },
    {
      "cell_type": "code",
      "source": [
        "A=np.random.randint(0,50,size=(4))\n",
        "print(A)\n",
        "np.sqrt(A)"
      ],
      "metadata": {
        "id": "TvBkU7gRrHN5",
        "colab": {
          "base_uri": "https://localhost:8080/"
        },
        "outputId": "1c64d703-8965-40d5-e373-7ea67c4ce01a"
      },
      "execution_count": null,
      "outputs": [
        {
          "output_type": "stream",
          "name": "stdout",
          "text": [
            "[38 45  7 45]\n"
          ]
        },
        {
          "output_type": "execute_result",
          "data": {
            "text/plain": [
              "array([6.164414  , 6.70820393, 2.64575131, 6.70820393])"
            ]
          },
          "metadata": {},
          "execution_count": 9
        }
      ]
    }
  ]
}