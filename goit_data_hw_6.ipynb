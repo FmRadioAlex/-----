{
  "nbformat": 4,
  "nbformat_minor": 0,
  "metadata": {
    "colab": {
      "provenance": [],
      "collapsed_sections": [
        "z7iAzoU1c82g",
        "WcujqjfHCfbL",
        "nygZmD0KCQSM",
        "donBtj8RCYqM"
      ],
      "toc_visible": true,
      "authorship_tag": "ABX9TyP5ggZ9WE8Ok4eO3mWpKHA1",
      "include_colab_link": true
    },
    "kernelspec": {
      "name": "python3",
      "display_name": "Python 3"
    },
    "language_info": {
      "name": "python"
    }
  },
  "cells": [
    {
      "cell_type": "markdown",
      "metadata": {
        "id": "view-in-github",
        "colab_type": "text"
      },
      "source": [
        "<a href=\"https://colab.research.google.com/github/FmRadioAlex/-----/blob/main/goit_data_hw_6.ipynb\" target=\"_parent\"><img src=\"https://colab.research.google.com/assets/colab-badge.svg\" alt=\"Open In Colab\"/></a>"
      ]
    },
    {
      "cell_type": "markdown",
      "source": [
        "# Завдання\n",
        "  # Дане домашнє завдання буде повністю пов'язане з лінійною регресією та її реалізацією. Отож розіб'ємо наше домашнє завдання на декілька частин:"
      ],
      "metadata": {
        "id": "z7iAzoU1c82g"
      }
    },
    {
      "cell_type": "code",
      "execution_count": null,
      "metadata": {
        "id": "FMkNBYjGclOT"
      },
      "outputs": [],
      "source": [
        "import pandas as pd\n",
        "import numpy as np\n",
        "from matplotlib import pyplot as plt\n",
        "from sklearn.linear_model import LinearRegression\n",
        "\n",
        "import seaborn as sns"
      ]
    },
    {
      "cell_type": "code",
      "source": [
        "from sklearn.preprocessing import normalize as norm\n",
        "from sklearn.model_selection import train_test_split\n",
        "from sklearn.preprocessing import MinMaxScaler as min_max"
      ],
      "metadata": {
        "id": "t63wkgVHz-qO"
      },
      "execution_count": null,
      "outputs": []
    },
    {
      "cell_type": "markdown",
      "source": [
        "напишіть функцію гіпотези лінійної регресії у векторному вигляді;"
      ],
      "metadata": {
        "id": "25kancx1fr13"
      }
    },
    {
      "cell_type": "code",
      "source": [
        "table_model=pd.read_csv(\"Housing.csv\")\n",
        "table_model.head()\n",
        "data=table_model"
      ],
      "metadata": {
        "id": "2L-f1NluVXR2"
      },
      "execution_count": null,
      "outputs": []
    },
    {
      "cell_type": "markdown",
      "source": [
        "напишіть функцію гіпотези лінійної регресії у векторному вигляді;\n",
        "$$h(x) = w_0 + w_1*x$$\n",
        "$$h(x_1,x_2) = w_0 + w_1*x_1 + w_2*x_2 $$\n",
        "$$h(x_1,...,x_n) = w_0 + w_1*x_1 + ... + w_n*x_n $$\n",
        "$$ h(x_i) = w0 + \\sum_{i=1}^n w_n*x_n $$"
      ],
      "metadata": {
        "id": "-Y3QsM-23p3B"
      }
    },
    {
      "cell_type": "markdown",
      "source": [
        "$$ \\vec{x} = \\begin{pmatrix} 1 \\\\ x_1 \\\\ ..  \\\\ x_n   \\end{pmatrix},\n",
        "\\vec{w} = \\begin{pmatrix} w_0 \\\\ w_1 \\\\ ..\\\\ w_n \\end{pmatrix}$$"
      ],
      "metadata": {
        "id": "MAeStt6G3vZK"
      }
    },
    {
      "cell_type": "markdown",
      "source": [],
      "metadata": {
        "id": "8n5wqI7yCfG9"
      }
    },
    {
      "cell_type": "markdown",
      "source": [
        "# математичні функціі /"
      ],
      "metadata": {
        "id": "WcujqjfHCfbL"
      }
    },
    {
      "cell_type": "markdown",
      "source": [
        "$$ h(\\vec{x})= \\vec{x} \\cdot \\vec{w}  $$"
      ],
      "metadata": {
        "id": "vru_yygX3yBS"
      }
    },
    {
      "cell_type": "code",
      "source": [
        "def hypothesis(X, theta): #X=масив з декільками данними  theta=\n",
        "    return np.dot(X, theta)"
      ],
      "metadata": {
        "id": "xHYPijEgqQHy"
      },
      "execution_count": null,
      "outputs": []
    },
    {
      "cell_type": "code",
      "source": [
        "def feature_normalize(X):\n",
        "    mu = np.mean(X, axis=0)\n",
        "    sigma = np.std(X, axis=0)\n",
        "    X_norm = (X - mu) / sigma\n",
        "    return X_norm"
      ],
      "metadata": {
        "id": "vjJ11DmAr2yh"
      },
      "execution_count": null,
      "outputs": []
    },
    {
      "cell_type": "markdown",
      "source": [
        "створіть функцію для обчислення функції втрат у векторному вигляді"
      ],
      "metadata": {
        "id": "zV1OuXzYl6rV"
      }
    },
    {
      "cell_type": "markdown",
      "source": [
        "$$ J(w_0​,w_1, ... ,w_n)=\\frac{1}{2m} \\sum_{i=1}^{m}​(h(x^{(i)})−y^{(i)})^2  $$\n",
        "<!-- $$ J(w_0​,w_1, ... ,w_n)=\\frac{\\sum_{i=1}^{m}​(h(x^{(i)})−y^{(i)})^2}{2m}   $$ -->"
      ],
      "metadata": {
        "id": "k5UN8anJ1nSw"
      }
    },
    {
      "cell_type": "code",
      "source": [
        "def compute_cost(theta, X, y):\n",
        "    m = len(y)\n",
        "    h = hypothesis(X, theta)\n",
        "    J = np.sum((h - y) ** 2) / (2 * m)\n",
        "    return J"
      ],
      "metadata": {
        "id": "5VHW2FUnt0gy"
      },
      "execution_count": null,
      "outputs": []
    },
    {
      "cell_type": "markdown",
      "source": [
        "реалізуйте один крок градієнтного спуску;"
      ],
      "metadata": {
        "id": "mYqk01DQmWwT"
      }
    },
    {
      "cell_type": "markdown",
      "source": [
        "$$  \n",
        "\\nabla J(\\vec{w}) =\n",
        "\\begin{pmatrix}\n",
        "\\frac{\\partial J(\\vec{w})}{\\partial w_0} \\\\\n",
        "\\frac{\\partial J(\\vec{w})}{\\partial w_1} \\\\\n",
        "\\frac{\\partial J(\\vec{w})}{\\partial w_2} \\\\\n",
        ".. \\\\\n",
        "\\frac{\\partial J(\\vec{w})}{\\partial w_n} \\\\\n",
        "\\end{pmatrix}\n",
        "=\n",
        "\\begin{pmatrix}\n",
        "\\frac{1}{m} \\sum_{i=1}^{m} (h(x^{(i)}) - y^{(i)})\\\\\n",
        "\\frac{1}{m} \\sum_{i=1}^{m} (h(x^{(i)}) - y^{(i)})x_1^{(i)} \\\\\n",
        "\\frac{1}{m} \\sum_{i=1}^{m} (h(x^{(i)}) - y^{(i)})x_2^{(i)} \\\\\n",
        ".. \\\\\n",
        "\\frac{1}{m} \\sum_{i=1}^{m} (h(x^{(i)}) - y^{(i)})x_n^{(i)} \\\\\n",
        "\\end{pmatrix}\n",
        "$$"
      ],
      "metadata": {
        "id": "a84lTzbo2iLi"
      }
    },
    {
      "cell_type": "markdown",
      "source": [
        "$$\n",
        "X_{m,n}=\n",
        "\\begin{bmatrix}\n",
        " 1&  x^{(1)}_{1}&  x^{(1)}_{2}&  …&  x^{(1)}_{n}  \\\\\n",
        " 1&  x^{(2)}_{1}&  x^{(2)}_{2}&  …&  x^{(2)}_{n}  \\\\\n",
        " 1&  x^{(3)}_{1}&  x^{(3)}_{2}&  …&  x^{(3)}_{n}  \\\\\n",
        " \\vdots&   \\vdots&   \\vdots&   \\ddots&  \\vdots&   \\\\\n",
        " 1&  x^{(m)}_{1}&  x^{(m)}_{2}&  …&  x^{(m)}_{n}  \\\\\n",
        "\\end{bmatrix}​​\n",
        "$$"
      ],
      "metadata": {
        "id": "p_46pT2Q2Hds"
      }
    },
    {
      "cell_type": "markdown",
      "source": [
        "$$\n",
        "∇J(\\vec{w})=\\frac{1}{m}​  X^T(X \\vec{w} - \\vec{y}​)\n",
        "$$"
      ],
      "metadata": {
        "id": "n1IGpx-b3BBx"
      }
    },
    {
      "cell_type": "code",
      "source": [
        "def gradient_descent_step(theta, X, y, alpha):\n",
        "    m = len(y)\n",
        "    h = hypothesis(X, theta)\n",
        "    gradient = np.dot(X.T, (h - y)) / m\n",
        "    new_theta = theta - alpha * gradient\n",
        "    return new_theta"
      ],
      "metadata": {
        "id": "pmetiskTt19Z"
      },
      "execution_count": null,
      "outputs": []
    },
    {
      "cell_type": "markdown",
      "source": [
        "знайдіть найкращі параметри\n",
        "𝑤\n",
        "⃗\n",
        "w\n",
        "  для датасету використовуючи написані вами функції, прогнозуючу ціну на будинок залежно від площі, кількості ванних кімнат та кількості спалень;"
      ],
      "metadata": {
        "id": "U6BsbEXi_WdH"
      }
    },
    {
      "cell_type": "code",
      "source": [
        "X=table_model[['area','bedrooms','bathrooms']].values\n",
        "y=table_model['price'].values\n"
      ],
      "metadata": {
        "id": "iKkE37j1bYn8"
      },
      "execution_count": null,
      "outputs": []
    },
    {
      "cell_type": "code",
      "source": [
        "X_norm = feature_normalize(X[:, 1:])\n",
        "\n",
        "X_norm = np.column_stack((np.ones(len(X_norm)), X_norm))\n",
        "X_norm"
      ],
      "metadata": {
        "colab": {
          "base_uri": "https://localhost:8080/"
        },
        "id": "1V-LvXBJtFxi",
        "outputId": "6d3615c8-7bc9-440a-aa47-9b937cec3aa5"
      },
      "execution_count": null,
      "outputs": [
        {
          "output_type": "execute_result",
          "data": {
            "text/plain": [
              "array([[ 1.        ,  1.40341936,  1.42181174],\n",
              "       [ 1.        ,  1.40341936,  5.40580863],\n",
              "       [ 1.        ,  0.04727831,  1.42181174],\n",
              "       ...,\n",
              "       [ 1.        , -1.30886273, -0.57018671],\n",
              "       [ 1.        ,  0.04727831, -0.57018671],\n",
              "       [ 1.        ,  0.04727831, -0.57018671]])"
            ]
          },
          "metadata": {},
          "execution_count": 61
        }
      ]
    },
    {
      "cell_type": "code",
      "source": [
        "initial_w = np.random.rand(X.shape[1])\n",
        "\n",
        "alpha = 0.001\n",
        "iterations = 1000000\n",
        "cost_history=[]\n",
        "initial_w"
      ],
      "metadata": {
        "id": "4jgMvroUtVzq",
        "colab": {
          "base_uri": "https://localhost:8080/"
        },
        "outputId": "83fe27b6-7abf-4ce0-af9d-e993299d1b56"
      },
      "execution_count": null,
      "outputs": [
        {
          "output_type": "execute_result",
          "data": {
            "text/plain": [
              "array([0.2367207, 0.6863602, 0.6455067])"
            ]
          },
          "metadata": {},
          "execution_count": 62
        }
      ]
    },
    {
      "cell_type": "code",
      "source": [
        "for i in range(iterations):\n",
        "    initial_w = gradient_descent_step(initial_w, X_norm, y, alpha)\n",
        "    cost = compute_cost(initial_w, X_norm, y)\n",
        "    cost_history.append(cost)"
      ],
      "metadata": {
        "id": "2caHe-lAtdsP"
      },
      "execution_count": null,
      "outputs": []
    },
    {
      "cell_type": "code",
      "source": [
        "print(initial_w)"
      ],
      "metadata": {
        "id": "pr3Ine33t3tK",
        "colab": {
          "base_uri": "https://localhost:8080/"
        },
        "outputId": "418a6434-08e0-4d7d-e309-2e2c21ee4fad"
      },
      "execution_count": null,
      "outputs": [
        {
          "output_type": "stream",
          "name": "stdout",
          "text": [
            "[4766729.24770596  375771.3651489   826636.51519073]\n"
          ]
        }
      ]
    },
    {
      "cell_type": "markdown",
      "source": [
        "# Аналітичне рішення"
      ],
      "metadata": {
        "id": "nygZmD0KCQSM"
      }
    },
    {
      "cell_type": "code",
      "source": [
        "def func(x,y):\n",
        "  w = np.linalg.inv(X_norm.T.dot(X_norm)).dot(X_norm.T).dot(y)\n",
        "  return w"
      ],
      "metadata": {
        "id": "iRg0WCHW545N"
      },
      "execution_count": null,
      "outputs": []
    },
    {
      "cell_type": "code",
      "source": [
        "optimal_w=func(X_norm,y)\n",
        "optimal_w"
      ],
      "metadata": {
        "id": "fNhKcxNbH5ew",
        "colab": {
          "base_uri": "https://localhost:8080/"
        },
        "outputId": "a29e8ada-3601-45cb-d0c1-eea63d4951f3"
      },
      "execution_count": null,
      "outputs": [
        {
          "output_type": "execute_result",
          "data": {
            "text/plain": [
              "array([4766729.24770643,  375771.36514883,  826636.51519082])"
            ]
          },
          "metadata": {},
          "execution_count": 66
        }
      ]
    },
    {
      "cell_type": "markdown",
      "source": [
        "# Використання  LinearRegression"
      ],
      "metadata": {
        "id": "donBtj8RCYqM"
      }
    },
    {
      "cell_type": "code",
      "source": [
        "model=LinearRegression().fit(X_norm,y)\n",
        "model.__dict__"
      ],
      "metadata": {
        "id": "f0xCDcrovQg_",
        "colab": {
          "base_uri": "https://localhost:8080/"
        },
        "outputId": "e09a6a46-3924-405a-ee96-67f374e06616"
      },
      "execution_count": null,
      "outputs": [
        {
          "output_type": "execute_result",
          "data": {
            "text/plain": [
              "{'fit_intercept': True,\n",
              " 'copy_X': True,\n",
              " 'n_jobs': None,\n",
              " 'positive': False,\n",
              " 'n_features_in_': 3,\n",
              " 'coef_': array([     0.        , 375771.36514884, 826636.51519081]),\n",
              " 'rank_': 2,\n",
              " 'singular_': array([27.36406363, 18.47181695,  0.        ]),\n",
              " 'intercept_': 4766729.247706422}"
            ]
          },
          "metadata": {},
          "execution_count": 67
        }
      ]
    },
    {
      "cell_type": "code",
      "source": [
        "sklearnw = np.append(model.intercept_, model.coef_[1:])\n",
        "sklearnw"
      ],
      "metadata": {
        "id": "Adj9H3e5vjO_",
        "colab": {
          "base_uri": "https://localhost:8080/"
        },
        "outputId": "f314b727-5a38-4cf7-f89d-dc8138df7f92"
      },
      "execution_count": null,
      "outputs": [
        {
          "output_type": "execute_result",
          "data": {
            "text/plain": [
              "array([4766729.24770642,  375771.36514884,  826636.51519081])"
            ]
          },
          "metadata": {},
          "execution_count": 68
        }
      ]
    },
    {
      "cell_type": "markdown",
      "source": [],
      "metadata": {
        "id": "uZj9cfzRCqeu"
      }
    },
    {
      "cell_type": "markdown",
      "source": [
        "# Порівняти результати"
      ],
      "metadata": {
        "id": "ndRKDB3GCqz6"
      }
    },
    {
      "cell_type": "code",
      "source": [
        "print(\"Initial\\t\\t\" ,initial_w)\n",
        "print(\"SkLearn\\t\\t\",sklearnw)\n",
        "print(\"Analitic\\t\",optimal_w)"
      ],
      "metadata": {
        "id": "fkPBkzIyymuS",
        "colab": {
          "base_uri": "https://localhost:8080/"
        },
        "outputId": "0b64f3ed-2836-47d4-97a8-758a3e61175a"
      },
      "execution_count": null,
      "outputs": [
        {
          "output_type": "stream",
          "name": "stdout",
          "text": [
            "Initial\t\t [4766729.24770596  375771.3651489   826636.51519073]\n",
            "SkLearn\t\t [4766729.24770642  375771.36514884  826636.51519081]\n",
            "Analitic\t [4766729.24770643  375771.36514883  826636.51519082]\n"
          ]
        }
      ]
    },
    {
      "cell_type": "code",
      "source": [
        "price=data['price']\n",
        "features=data[['area','bedrooms','bathrooms']]\n",
        "X_train,X_test,y_train,y_test=train_test_split(features,price,test_size=0.2,random_state=10)\n"
      ],
      "metadata": {
        "id": "jOEJAkZwErcO"
      },
      "execution_count": null,
      "outputs": []
    },
    {
      "cell_type": "code",
      "source": [
        "regr=LinearRegression()\n",
        "regr.fit(X_train,y_train)\n",
        "\n",
        "print(\"Train data r-squared \",regr.score(X_train,y_train))\n",
        "print(\"Test data r-squarded \",regr.score(X_test,y_test))\n",
        "\n",
        "regr.__dict__\n",
        "pd.DataFrame(data=regr.coef_,index=X_train.columns,columns=['coef'])"
      ],
      "metadata": {
        "colab": {
          "base_uri": "https://localhost:8080/",
          "height": 178
        },
        "id": "R4dsRGAxFZAd",
        "outputId": "f74d6f4e-21d1-40d5-ca36-0c9230eb2cd6"
      },
      "execution_count": null,
      "outputs": [
        {
          "output_type": "stream",
          "name": "stdout",
          "text": [
            "Train data r-squared  0.4788730700542939\n",
            "Test data r-squarded  0.5092432268924044\n"
          ]
        },
        {
          "output_type": "execute_result",
          "data": {
            "text/plain": [
              "                   coef\n",
              "area       4.091322e+02\n",
              "bedrooms   4.550391e+05\n",
              "bathrooms  1.376909e+06"
            ],
            "text/html": [
              "\n",
              "  <div id=\"df-3ea41705-fd50-46c3-9823-5880ec916caf\" class=\"colab-df-container\">\n",
              "    <div>\n",
              "<style scoped>\n",
              "    .dataframe tbody tr th:only-of-type {\n",
              "        vertical-align: middle;\n",
              "    }\n",
              "\n",
              "    .dataframe tbody tr th {\n",
              "        vertical-align: top;\n",
              "    }\n",
              "\n",
              "    .dataframe thead th {\n",
              "        text-align: right;\n",
              "    }\n",
              "</style>\n",
              "<table border=\"1\" class=\"dataframe\">\n",
              "  <thead>\n",
              "    <tr style=\"text-align: right;\">\n",
              "      <th></th>\n",
              "      <th>coef</th>\n",
              "    </tr>\n",
              "  </thead>\n",
              "  <tbody>\n",
              "    <tr>\n",
              "      <th>area</th>\n",
              "      <td>4.091322e+02</td>\n",
              "    </tr>\n",
              "    <tr>\n",
              "      <th>bedrooms</th>\n",
              "      <td>4.550391e+05</td>\n",
              "    </tr>\n",
              "    <tr>\n",
              "      <th>bathrooms</th>\n",
              "      <td>1.376909e+06</td>\n",
              "    </tr>\n",
              "  </tbody>\n",
              "</table>\n",
              "</div>\n",
              "    <div class=\"colab-df-buttons\">\n",
              "\n",
              "  <div class=\"colab-df-container\">\n",
              "    <button class=\"colab-df-convert\" onclick=\"convertToInteractive('df-3ea41705-fd50-46c3-9823-5880ec916caf')\"\n",
              "            title=\"Convert this dataframe to an interactive table.\"\n",
              "            style=\"display:none;\">\n",
              "\n",
              "  <svg xmlns=\"http://www.w3.org/2000/svg\" height=\"24px\" viewBox=\"0 -960 960 960\">\n",
              "    <path d=\"M120-120v-720h720v720H120Zm60-500h600v-160H180v160Zm220 220h160v-160H400v160Zm0 220h160v-160H400v160ZM180-400h160v-160H180v160Zm440 0h160v-160H620v160ZM180-180h160v-160H180v160Zm440 0h160v-160H620v160Z\"/>\n",
              "  </svg>\n",
              "    </button>\n",
              "\n",
              "  <style>\n",
              "    .colab-df-container {\n",
              "      display:flex;\n",
              "      gap: 12px;\n",
              "    }\n",
              "\n",
              "    .colab-df-convert {\n",
              "      background-color: #E8F0FE;\n",
              "      border: none;\n",
              "      border-radius: 50%;\n",
              "      cursor: pointer;\n",
              "      display: none;\n",
              "      fill: #1967D2;\n",
              "      height: 32px;\n",
              "      padding: 0 0 0 0;\n",
              "      width: 32px;\n",
              "    }\n",
              "\n",
              "    .colab-df-convert:hover {\n",
              "      background-color: #E2EBFA;\n",
              "      box-shadow: 0px 1px 2px rgba(60, 64, 67, 0.3), 0px 1px 3px 1px rgba(60, 64, 67, 0.15);\n",
              "      fill: #174EA6;\n",
              "    }\n",
              "\n",
              "    .colab-df-buttons div {\n",
              "      margin-bottom: 4px;\n",
              "    }\n",
              "\n",
              "    [theme=dark] .colab-df-convert {\n",
              "      background-color: #3B4455;\n",
              "      fill: #D2E3FC;\n",
              "    }\n",
              "\n",
              "    [theme=dark] .colab-df-convert:hover {\n",
              "      background-color: #434B5C;\n",
              "      box-shadow: 0px 1px 3px 1px rgba(0, 0, 0, 0.15);\n",
              "      filter: drop-shadow(0px 1px 2px rgba(0, 0, 0, 0.3));\n",
              "      fill: #FFFFFF;\n",
              "    }\n",
              "  </style>\n",
              "\n",
              "    <script>\n",
              "      const buttonEl =\n",
              "        document.querySelector('#df-3ea41705-fd50-46c3-9823-5880ec916caf button.colab-df-convert');\n",
              "      buttonEl.style.display =\n",
              "        google.colab.kernel.accessAllowed ? 'block' : 'none';\n",
              "\n",
              "      async function convertToInteractive(key) {\n",
              "        const element = document.querySelector('#df-3ea41705-fd50-46c3-9823-5880ec916caf');\n",
              "        const dataTable =\n",
              "          await google.colab.kernel.invokeFunction('convertToInteractive',\n",
              "                                                    [key], {});\n",
              "        if (!dataTable) return;\n",
              "\n",
              "        const docLinkHtml = 'Like what you see? Visit the ' +\n",
              "          '<a target=\"_blank\" href=https://colab.research.google.com/notebooks/data_table.ipynb>data table notebook</a>'\n",
              "          + ' to learn more about interactive tables.';\n",
              "        element.innerHTML = '';\n",
              "        dataTable['output_type'] = 'display_data';\n",
              "        await google.colab.output.renderOutput(dataTable, element);\n",
              "        const docLink = document.createElement('div');\n",
              "        docLink.innerHTML = docLinkHtml;\n",
              "        element.appendChild(docLink);\n",
              "      }\n",
              "    </script>\n",
              "  </div>\n",
              "\n",
              "\n",
              "<div id=\"df-de2fbd45-467e-4901-8b1d-8cdceda8ddc1\">\n",
              "  <button class=\"colab-df-quickchart\" onclick=\"quickchart('df-de2fbd45-467e-4901-8b1d-8cdceda8ddc1')\"\n",
              "            title=\"Suggest charts\"\n",
              "            style=\"display:none;\">\n",
              "\n",
              "<svg xmlns=\"http://www.w3.org/2000/svg\" height=\"24px\"viewBox=\"0 0 24 24\"\n",
              "     width=\"24px\">\n",
              "    <g>\n",
              "        <path d=\"M19 3H5c-1.1 0-2 .9-2 2v14c0 1.1.9 2 2 2h14c1.1 0 2-.9 2-2V5c0-1.1-.9-2-2-2zM9 17H7v-7h2v7zm4 0h-2V7h2v10zm4 0h-2v-4h2v4z\"/>\n",
              "    </g>\n",
              "</svg>\n",
              "  </button>\n",
              "\n",
              "<style>\n",
              "  .colab-df-quickchart {\n",
              "      --bg-color: #E8F0FE;\n",
              "      --fill-color: #1967D2;\n",
              "      --hover-bg-color: #E2EBFA;\n",
              "      --hover-fill-color: #174EA6;\n",
              "      --disabled-fill-color: #AAA;\n",
              "      --disabled-bg-color: #DDD;\n",
              "  }\n",
              "\n",
              "  [theme=dark] .colab-df-quickchart {\n",
              "      --bg-color: #3B4455;\n",
              "      --fill-color: #D2E3FC;\n",
              "      --hover-bg-color: #434B5C;\n",
              "      --hover-fill-color: #FFFFFF;\n",
              "      --disabled-bg-color: #3B4455;\n",
              "      --disabled-fill-color: #666;\n",
              "  }\n",
              "\n",
              "  .colab-df-quickchart {\n",
              "    background-color: var(--bg-color);\n",
              "    border: none;\n",
              "    border-radius: 50%;\n",
              "    cursor: pointer;\n",
              "    display: none;\n",
              "    fill: var(--fill-color);\n",
              "    height: 32px;\n",
              "    padding: 0;\n",
              "    width: 32px;\n",
              "  }\n",
              "\n",
              "  .colab-df-quickchart:hover {\n",
              "    background-color: var(--hover-bg-color);\n",
              "    box-shadow: 0 1px 2px rgba(60, 64, 67, 0.3), 0 1px 3px 1px rgba(60, 64, 67, 0.15);\n",
              "    fill: var(--button-hover-fill-color);\n",
              "  }\n",
              "\n",
              "  .colab-df-quickchart-complete:disabled,\n",
              "  .colab-df-quickchart-complete:disabled:hover {\n",
              "    background-color: var(--disabled-bg-color);\n",
              "    fill: var(--disabled-fill-color);\n",
              "    box-shadow: none;\n",
              "  }\n",
              "\n",
              "  .colab-df-spinner {\n",
              "    border: 2px solid var(--fill-color);\n",
              "    border-color: transparent;\n",
              "    border-bottom-color: var(--fill-color);\n",
              "    animation:\n",
              "      spin 1s steps(1) infinite;\n",
              "  }\n",
              "\n",
              "  @keyframes spin {\n",
              "    0% {\n",
              "      border-color: transparent;\n",
              "      border-bottom-color: var(--fill-color);\n",
              "      border-left-color: var(--fill-color);\n",
              "    }\n",
              "    20% {\n",
              "      border-color: transparent;\n",
              "      border-left-color: var(--fill-color);\n",
              "      border-top-color: var(--fill-color);\n",
              "    }\n",
              "    30% {\n",
              "      border-color: transparent;\n",
              "      border-left-color: var(--fill-color);\n",
              "      border-top-color: var(--fill-color);\n",
              "      border-right-color: var(--fill-color);\n",
              "    }\n",
              "    40% {\n",
              "      border-color: transparent;\n",
              "      border-right-color: var(--fill-color);\n",
              "      border-top-color: var(--fill-color);\n",
              "    }\n",
              "    60% {\n",
              "      border-color: transparent;\n",
              "      border-right-color: var(--fill-color);\n",
              "    }\n",
              "    80% {\n",
              "      border-color: transparent;\n",
              "      border-right-color: var(--fill-color);\n",
              "      border-bottom-color: var(--fill-color);\n",
              "    }\n",
              "    90% {\n",
              "      border-color: transparent;\n",
              "      border-bottom-color: var(--fill-color);\n",
              "    }\n",
              "  }\n",
              "</style>\n",
              "\n",
              "  <script>\n",
              "    async function quickchart(key) {\n",
              "      const quickchartButtonEl =\n",
              "        document.querySelector('#' + key + ' button');\n",
              "      quickchartButtonEl.disabled = true;  // To prevent multiple clicks.\n",
              "      quickchartButtonEl.classList.add('colab-df-spinner');\n",
              "      try {\n",
              "        const charts = await google.colab.kernel.invokeFunction(\n",
              "            'suggestCharts', [key], {});\n",
              "      } catch (error) {\n",
              "        console.error('Error during call to suggestCharts:', error);\n",
              "      }\n",
              "      quickchartButtonEl.classList.remove('colab-df-spinner');\n",
              "      quickchartButtonEl.classList.add('colab-df-quickchart-complete');\n",
              "    }\n",
              "    (() => {\n",
              "      let quickchartButtonEl =\n",
              "        document.querySelector('#df-de2fbd45-467e-4901-8b1d-8cdceda8ddc1 button');\n",
              "      quickchartButtonEl.style.display =\n",
              "        google.colab.kernel.accessAllowed ? 'block' : 'none';\n",
              "    })();\n",
              "  </script>\n",
              "</div>\n",
              "    </div>\n",
              "  </div>\n"
            ],
            "application/vnd.google.colaboratory.intrinsic+json": {
              "type": "dataframe",
              "summary": "{\n  \"name\": \"pd\",\n  \"rows\": 3,\n  \"fields\": [\n    {\n      \"column\": \"coef\",\n      \"properties\": {\n        \"dtype\": \"number\",\n        \"std\": 701341.8678733534,\n        \"min\": 409.13219286621114,\n        \"max\": 1376908.5890469286,\n        \"num_unique_values\": 3,\n        \"samples\": [\n          409.13219286621114,\n          455039.12503104284,\n          1376908.5890469286\n        ],\n        \"semantic_type\": \"\",\n        \"description\": \"\"\n      }\n    }\n  ]\n}"
            }
          },
          "metadata": {},
          "execution_count": 89
        }
      ]
    }
  ]
}